{
 "cells": [
  {
   "cell_type": "code",
   "execution_count": 4,
   "id": "c8640ca7",
   "metadata": {},
   "outputs": [],
   "source": [
    "import pandas as pd\n",
    "import glob\n",
    "import datetime\n",
    "import matplotlib.pyplot as plt\n",
    "import requests"
   ]
  },
  {
   "cell_type": "code",
   "execution_count": 1,
   "id": "b6929551",
   "metadata": {},
   "outputs": [
    {
     "name": "stderr",
     "output_type": "stream",
     "text": [
      "/home/stuart/.pyenv/versions/3.10.6/envs/lewagon/lib/python3.10/site-packages/requests/__init__.py:102: RequestsDependencyWarning: urllib3 (1.26.7) or chardet (5.0.0)/charset_normalizer (2.0.7) doesn't match a supported version!\n",
      "  warnings.warn(\"urllib3 ({}) or chardet ({})/charset_normalizer ({}) doesn't match a supported \"\n"
     ]
    }
   ],
   "source": [
    "# get station data\n",
    "stations = requests.get('https://api.ust.is/aq/a/getStations').json()"
   ]
  },
  {
   "cell_type": "code",
   "execution_count": 8,
   "id": "05190254",
   "metadata": {},
   "outputs": [],
   "source": [
    "df = pd.DataFrame.from_dict(stations)"
   ]
  },
  {
   "cell_type": "code",
   "execution_count": 17,
   "id": "6a1a41e6",
   "metadata": {},
   "outputs": [],
   "source": [
    "df['parameters'] = df['parameters'].apply(lambda x: x.replace('{','').replace('}','').replace('\"','').split(','))"
   ]
  },
  {
   "cell_type": "code",
   "execution_count": 19,
   "id": "8daf72e3",
   "metadata": {},
   "outputs": [],
   "source": [
    "df = pd.concat([df.drop('parameters', axis=1),\n",
    "                df['parameters'].apply(lambda x: pd.Series({item: 1 for item in x}))],\n",
    "               axis=1)"
   ]
  },
  {
   "cell_type": "code",
   "execution_count": 23,
   "id": "89874dec",
   "metadata": {},
   "outputs": [],
   "source": [
    "df.to_csv('raw_data/station_data.csv', index=False)"
   ]
  },
  {
   "cell_type": "code",
   "execution_count": null,
   "id": "321ae2ba",
   "metadata": {},
   "outputs": [],
   "source": []
  },
  {
   "cell_type": "code",
   "execution_count": null,
   "id": "4d87f3ec",
   "metadata": {},
   "outputs": [],
   "source": []
  },
  {
   "cell_type": "code",
   "execution_count": 2,
   "id": "16ce79a3",
   "metadata": {},
   "outputs": [],
   "source": [
    "df = pd.concat(map(pd.read_csv, glob.glob(\"raw_data/ust_aq_timeseries_*.csv\")))"
   ]
  },
  {
   "cell_type": "code",
   "execution_count": 3,
   "id": "060a52fc",
   "metadata": {},
   "outputs": [
    {
     "data": {
      "text/plain": [
       "(3579470, 10)"
      ]
     },
     "execution_count": 3,
     "metadata": {},
     "output_type": "execute_result"
    }
   ],
   "source": [
    "df.shape"
   ]
  },
  {
   "cell_type": "code",
   "execution_count": 4,
   "id": "77b1ad14",
   "metadata": {},
   "outputs": [
    {
     "data": {
      "text/html": [
       "<div>\n",
       "<style scoped>\n",
       "    .dataframe tbody tr th:only-of-type {\n",
       "        vertical-align: middle;\n",
       "    }\n",
       "\n",
       "    .dataframe tbody tr th {\n",
       "        vertical-align: top;\n",
       "    }\n",
       "\n",
       "    .dataframe thead th {\n",
       "        text-align: right;\n",
       "    }\n",
       "</style>\n",
       "<table border=\"1\" class=\"dataframe\">\n",
       "  <thead>\n",
       "    <tr style=\"text-align: right;\">\n",
       "      <th></th>\n",
       "      <th>the_value</th>\n",
       "      <th>verification</th>\n",
       "      <th>validity</th>\n",
       "    </tr>\n",
       "  </thead>\n",
       "  <tbody>\n",
       "    <tr>\n",
       "      <th>count</th>\n",
       "      <td>3.122794e+06</td>\n",
       "      <td>3.579470e+06</td>\n",
       "      <td>3.579470e+06</td>\n",
       "    </tr>\n",
       "    <tr>\n",
       "      <th>mean</th>\n",
       "      <td>-1.075389e+03</td>\n",
       "      <td>1.012601e+00</td>\n",
       "      <td>8.011136e-01</td>\n",
       "    </tr>\n",
       "    <tr>\n",
       "      <th>std</th>\n",
       "      <td>1.040229e+05</td>\n",
       "      <td>1.582524e-01</td>\n",
       "      <td>5.985124e-01</td>\n",
       "    </tr>\n",
       "    <tr>\n",
       "      <th>min</th>\n",
       "      <td>-9.999010e+06</td>\n",
       "      <td>1.000000e+00</td>\n",
       "      <td>-1.000000e+00</td>\n",
       "    </tr>\n",
       "    <tr>\n",
       "      <th>25%</th>\n",
       "      <td>3.118330e-01</td>\n",
       "      <td>1.000000e+00</td>\n",
       "      <td>1.000000e+00</td>\n",
       "    </tr>\n",
       "    <tr>\n",
       "      <th>50%</th>\n",
       "      <td>1.466670e+00</td>\n",
       "      <td>1.000000e+00</td>\n",
       "      <td>1.000000e+00</td>\n",
       "    </tr>\n",
       "    <tr>\n",
       "      <th>75%</th>\n",
       "      <td>4.911950e+00</td>\n",
       "      <td>1.000000e+00</td>\n",
       "      <td>1.000000e+00</td>\n",
       "    </tr>\n",
       "    <tr>\n",
       "      <th>max</th>\n",
       "      <td>9.740000e+05</td>\n",
       "      <td>3.000000e+00</td>\n",
       "      <td>1.000000e+00</td>\n",
       "    </tr>\n",
       "  </tbody>\n",
       "</table>\n",
       "</div>"
      ],
      "text/plain": [
       "          the_value  verification      validity\n",
       "count  3.122794e+06  3.579470e+06  3.579470e+06\n",
       "mean  -1.075389e+03  1.012601e+00  8.011136e-01\n",
       "std    1.040229e+05  1.582524e-01  5.985124e-01\n",
       "min   -9.999010e+06  1.000000e+00 -1.000000e+00\n",
       "25%    3.118330e-01  1.000000e+00  1.000000e+00\n",
       "50%    1.466670e+00  1.000000e+00  1.000000e+00\n",
       "75%    4.911950e+00  1.000000e+00  1.000000e+00\n",
       "max    9.740000e+05  3.000000e+00  1.000000e+00"
      ]
     },
     "execution_count": 4,
     "metadata": {},
     "output_type": "execute_result"
    }
   ],
   "source": [
    "df.describe()"
   ]
  },
  {
   "cell_type": "code",
   "execution_count": 5,
   "id": "37de744c",
   "metadata": {},
   "outputs": [
    {
     "data": {
      "text/html": [
       "<div>\n",
       "<style scoped>\n",
       "    .dataframe tbody tr th:only-of-type {\n",
       "        vertical-align: middle;\n",
       "    }\n",
       "\n",
       "    .dataframe tbody tr th {\n",
       "        vertical-align: top;\n",
       "    }\n",
       "\n",
       "    .dataframe thead th {\n",
       "        text-align: right;\n",
       "    }\n",
       "</style>\n",
       "<table border=\"1\" class=\"dataframe\">\n",
       "  <thead>\n",
       "    <tr style=\"text-align: right;\">\n",
       "      <th></th>\n",
       "      <th>station_name</th>\n",
       "      <th>pollutantnotation</th>\n",
       "      <th>local_id</th>\n",
       "      <th>endtime</th>\n",
       "      <th>the_value</th>\n",
       "      <th>resolution</th>\n",
       "      <th>verification</th>\n",
       "      <th>validity</th>\n",
       "      <th>station_local_id</th>\n",
       "      <th>concentration</th>\n",
       "    </tr>\n",
       "  </thead>\n",
       "  <tbody>\n",
       "    <tr>\n",
       "      <th>0</th>\n",
       "      <td>PCC suður</td>\n",
       "      <td>SO2</td>\n",
       "      <td>OBP-IS0050A_00001_100</td>\n",
       "      <td>2018-08-25 12:00:00</td>\n",
       "      <td>0.228191</td>\n",
       "      <td>1h</td>\n",
       "      <td>1</td>\n",
       "      <td>1</td>\n",
       "      <td>STA-IS0050A</td>\n",
       "      <td>µg/m3</td>\n",
       "    </tr>\n",
       "    <tr>\n",
       "      <th>1</th>\n",
       "      <td>Grundartangi Gröf</td>\n",
       "      <td>NO</td>\n",
       "      <td>OBP-IS0041A_00038_100</td>\n",
       "      <td>2018-08-25 12:00:00</td>\n",
       "      <td>-0.205167</td>\n",
       "      <td>1h</td>\n",
       "      <td>1</td>\n",
       "      <td>1</td>\n",
       "      <td>STA-IS0041A</td>\n",
       "      <td>µg/m3</td>\n",
       "    </tr>\n",
       "    <tr>\n",
       "      <th>2</th>\n",
       "      <td>PCC suður</td>\n",
       "      <td>NOX as NO2</td>\n",
       "      <td>OBP-IS0050A_00009_100</td>\n",
       "      <td>2018-08-25 12:00:00</td>\n",
       "      <td>4.951490</td>\n",
       "      <td>1h</td>\n",
       "      <td>1</td>\n",
       "      <td>1</td>\n",
       "      <td>STA-IS0050A</td>\n",
       "      <td>µg/m3</td>\n",
       "    </tr>\n",
       "    <tr>\n",
       "      <th>3</th>\n",
       "      <td>Kópavogur Dalsmári</td>\n",
       "      <td>NO</td>\n",
       "      <td>OBP-IS0037A_00038_100</td>\n",
       "      <td>2018-08-25 12:00:00</td>\n",
       "      <td>NaN</td>\n",
       "      <td>1h</td>\n",
       "      <td>1</td>\n",
       "      <td>-1</td>\n",
       "      <td>STA-IS0037A</td>\n",
       "      <td>µg/m3</td>\n",
       "    </tr>\n",
       "    <tr>\n",
       "      <th>4</th>\n",
       "      <td>PCC norður</td>\n",
       "      <td>NO</td>\n",
       "      <td>OBP-IS0049A_00038_100</td>\n",
       "      <td>2018-08-25 12:00:00</td>\n",
       "      <td>0.187056</td>\n",
       "      <td>1h</td>\n",
       "      <td>1</td>\n",
       "      <td>1</td>\n",
       "      <td>STA-IS0049A</td>\n",
       "      <td>µg/m3</td>\n",
       "    </tr>\n",
       "  </tbody>\n",
       "</table>\n",
       "</div>"
      ],
      "text/plain": [
       "         station_name pollutantnotation               local_id  \\\n",
       "0           PCC suður               SO2  OBP-IS0050A_00001_100   \n",
       "1   Grundartangi Gröf                NO  OBP-IS0041A_00038_100   \n",
       "2           PCC suður        NOX as NO2  OBP-IS0050A_00009_100   \n",
       "3  Kópavogur Dalsmári                NO  OBP-IS0037A_00038_100   \n",
       "4          PCC norður                NO  OBP-IS0049A_00038_100   \n",
       "\n",
       "               endtime  the_value resolution  verification  validity  \\\n",
       "0  2018-08-25 12:00:00   0.228191         1h             1         1   \n",
       "1  2018-08-25 12:00:00  -0.205167         1h             1         1   \n",
       "2  2018-08-25 12:00:00   4.951490         1h             1         1   \n",
       "3  2018-08-25 12:00:00        NaN         1h             1        -1   \n",
       "4  2018-08-25 12:00:00   0.187056         1h             1         1   \n",
       "\n",
       "  station_local_id concentration  \n",
       "0      STA-IS0050A         µg/m3  \n",
       "1      STA-IS0041A         µg/m3  \n",
       "2      STA-IS0050A         µg/m3  \n",
       "3      STA-IS0037A         µg/m3  \n",
       "4      STA-IS0049A         µg/m3  "
      ]
     },
     "execution_count": 5,
     "metadata": {},
     "output_type": "execute_result"
    }
   ],
   "source": [
    "df.head()"
   ]
  },
  {
   "cell_type": "code",
   "execution_count": 6,
   "id": "a66d5915",
   "metadata": {},
   "outputs": [
    {
     "name": "stdout",
     "output_type": "stream",
     "text": [
      "<class 'pandas.core.frame.DataFrame'>\n",
      "Int64Index: 3579470 entries, 0 to 748196\n",
      "Data columns (total 10 columns):\n",
      " #   Column             Dtype  \n",
      "---  ------             -----  \n",
      " 0   station_name       object \n",
      " 1   pollutantnotation  object \n",
      " 2   local_id           object \n",
      " 3   endtime            object \n",
      " 4   the_value          float64\n",
      " 5   resolution         object \n",
      " 6   verification       int64  \n",
      " 7   validity           int64  \n",
      " 8   station_local_id   object \n",
      " 9   concentration      object \n",
      "dtypes: float64(1), int64(2), object(7)\n",
      "memory usage: 300.4+ MB\n"
     ]
    }
   ],
   "source": [
    "df.info()"
   ]
  },
  {
   "cell_type": "code",
   "execution_count": 7,
   "id": "3ac8cf20",
   "metadata": {},
   "outputs": [],
   "source": [
    "# create new date and time columns"
   ]
  },
  {
   "cell_type": "code",
   "execution_count": 8,
   "id": "342500d7",
   "metadata": {},
   "outputs": [],
   "source": [
    "# Convert column to datetime type\n",
    "df['datetime'] = pd.to_datetime(df['endtime'])  \n",
    "\n",
    "# Create new columns for date and time\n",
    "df['date'] = df['datetime'].dt.date\n",
    "df['hour'] = df['datetime'].dt.time"
   ]
  },
  {
   "cell_type": "code",
   "execution_count": 9,
   "id": "22afc070",
   "metadata": {},
   "outputs": [
    {
     "data": {
      "text/html": [
       "<div>\n",
       "<style scoped>\n",
       "    .dataframe tbody tr th:only-of-type {\n",
       "        vertical-align: middle;\n",
       "    }\n",
       "\n",
       "    .dataframe tbody tr th {\n",
       "        vertical-align: top;\n",
       "    }\n",
       "\n",
       "    .dataframe thead th {\n",
       "        text-align: right;\n",
       "    }\n",
       "</style>\n",
       "<table border=\"1\" class=\"dataframe\">\n",
       "  <thead>\n",
       "    <tr style=\"text-align: right;\">\n",
       "      <th></th>\n",
       "      <th>station_name</th>\n",
       "      <th>pollutantnotation</th>\n",
       "      <th>local_id</th>\n",
       "      <th>endtime</th>\n",
       "      <th>the_value</th>\n",
       "      <th>resolution</th>\n",
       "      <th>verification</th>\n",
       "      <th>validity</th>\n",
       "      <th>station_local_id</th>\n",
       "      <th>concentration</th>\n",
       "      <th>datetime</th>\n",
       "      <th>date</th>\n",
       "      <th>hour</th>\n",
       "    </tr>\n",
       "  </thead>\n",
       "  <tbody>\n",
       "    <tr>\n",
       "      <th>0</th>\n",
       "      <td>PCC suður</td>\n",
       "      <td>SO2</td>\n",
       "      <td>OBP-IS0050A_00001_100</td>\n",
       "      <td>2018-08-25 12:00:00</td>\n",
       "      <td>0.228191</td>\n",
       "      <td>1h</td>\n",
       "      <td>1</td>\n",
       "      <td>1</td>\n",
       "      <td>STA-IS0050A</td>\n",
       "      <td>µg/m3</td>\n",
       "      <td>2018-08-25 12:00:00</td>\n",
       "      <td>2018-08-25</td>\n",
       "      <td>12:00:00</td>\n",
       "    </tr>\n",
       "    <tr>\n",
       "      <th>1</th>\n",
       "      <td>Grundartangi Gröf</td>\n",
       "      <td>NO</td>\n",
       "      <td>OBP-IS0041A_00038_100</td>\n",
       "      <td>2018-08-25 12:00:00</td>\n",
       "      <td>-0.205167</td>\n",
       "      <td>1h</td>\n",
       "      <td>1</td>\n",
       "      <td>1</td>\n",
       "      <td>STA-IS0041A</td>\n",
       "      <td>µg/m3</td>\n",
       "      <td>2018-08-25 12:00:00</td>\n",
       "      <td>2018-08-25</td>\n",
       "      <td>12:00:00</td>\n",
       "    </tr>\n",
       "    <tr>\n",
       "      <th>2</th>\n",
       "      <td>PCC suður</td>\n",
       "      <td>NOX as NO2</td>\n",
       "      <td>OBP-IS0050A_00009_100</td>\n",
       "      <td>2018-08-25 12:00:00</td>\n",
       "      <td>4.951490</td>\n",
       "      <td>1h</td>\n",
       "      <td>1</td>\n",
       "      <td>1</td>\n",
       "      <td>STA-IS0050A</td>\n",
       "      <td>µg/m3</td>\n",
       "      <td>2018-08-25 12:00:00</td>\n",
       "      <td>2018-08-25</td>\n",
       "      <td>12:00:00</td>\n",
       "    </tr>\n",
       "    <tr>\n",
       "      <th>3</th>\n",
       "      <td>Kópavogur Dalsmári</td>\n",
       "      <td>NO</td>\n",
       "      <td>OBP-IS0037A_00038_100</td>\n",
       "      <td>2018-08-25 12:00:00</td>\n",
       "      <td>NaN</td>\n",
       "      <td>1h</td>\n",
       "      <td>1</td>\n",
       "      <td>-1</td>\n",
       "      <td>STA-IS0037A</td>\n",
       "      <td>µg/m3</td>\n",
       "      <td>2018-08-25 12:00:00</td>\n",
       "      <td>2018-08-25</td>\n",
       "      <td>12:00:00</td>\n",
       "    </tr>\n",
       "    <tr>\n",
       "      <th>4</th>\n",
       "      <td>PCC norður</td>\n",
       "      <td>NO</td>\n",
       "      <td>OBP-IS0049A_00038_100</td>\n",
       "      <td>2018-08-25 12:00:00</td>\n",
       "      <td>0.187056</td>\n",
       "      <td>1h</td>\n",
       "      <td>1</td>\n",
       "      <td>1</td>\n",
       "      <td>STA-IS0049A</td>\n",
       "      <td>µg/m3</td>\n",
       "      <td>2018-08-25 12:00:00</td>\n",
       "      <td>2018-08-25</td>\n",
       "      <td>12:00:00</td>\n",
       "    </tr>\n",
       "  </tbody>\n",
       "</table>\n",
       "</div>"
      ],
      "text/plain": [
       "         station_name pollutantnotation               local_id  \\\n",
       "0           PCC suður               SO2  OBP-IS0050A_00001_100   \n",
       "1   Grundartangi Gröf                NO  OBP-IS0041A_00038_100   \n",
       "2           PCC suður        NOX as NO2  OBP-IS0050A_00009_100   \n",
       "3  Kópavogur Dalsmári                NO  OBP-IS0037A_00038_100   \n",
       "4          PCC norður                NO  OBP-IS0049A_00038_100   \n",
       "\n",
       "               endtime  the_value resolution  verification  validity  \\\n",
       "0  2018-08-25 12:00:00   0.228191         1h             1         1   \n",
       "1  2018-08-25 12:00:00  -0.205167         1h             1         1   \n",
       "2  2018-08-25 12:00:00   4.951490         1h             1         1   \n",
       "3  2018-08-25 12:00:00        NaN         1h             1        -1   \n",
       "4  2018-08-25 12:00:00   0.187056         1h             1         1   \n",
       "\n",
       "  station_local_id concentration            datetime        date      hour  \n",
       "0      STA-IS0050A         µg/m3 2018-08-25 12:00:00  2018-08-25  12:00:00  \n",
       "1      STA-IS0041A         µg/m3 2018-08-25 12:00:00  2018-08-25  12:00:00  \n",
       "2      STA-IS0050A         µg/m3 2018-08-25 12:00:00  2018-08-25  12:00:00  \n",
       "3      STA-IS0037A         µg/m3 2018-08-25 12:00:00  2018-08-25  12:00:00  \n",
       "4      STA-IS0049A         µg/m3 2018-08-25 12:00:00  2018-08-25  12:00:00  "
      ]
     },
     "execution_count": 9,
     "metadata": {},
     "output_type": "execute_result"
    }
   ],
   "source": [
    "df.head(5)"
   ]
  },
  {
   "cell_type": "code",
   "execution_count": 10,
   "id": "72a6cd01",
   "metadata": {},
   "outputs": [],
   "source": [
    "pcc_df = df[df['station_local_id'] == 'STA-IS0050A']"
   ]
  },
  {
   "cell_type": "code",
   "execution_count": 11,
   "id": "444d88ff",
   "metadata": {},
   "outputs": [],
   "source": [
    "pcc_df = pcc_df[pcc_df['pollutantnotation'] == 'SO2']"
   ]
  },
  {
   "cell_type": "code",
   "execution_count": 21,
   "id": "414bf103",
   "metadata": {},
   "outputs": [],
   "source": [
    "pcc_df = pcc_df[pcc_df['hour'] == datetime.time(12, 0)]"
   ]
  },
  {
   "cell_type": "code",
   "execution_count": 24,
   "id": "7b7f32c9",
   "metadata": {},
   "outputs": [
    {
     "data": {
      "text/plain": [
       "station_name          0\n",
       "pollutantnotation     0\n",
       "local_id              0\n",
       "endtime               0\n",
       "the_value            54\n",
       "resolution            0\n",
       "verification          0\n",
       "validity              0\n",
       "station_local_id      0\n",
       "concentration         0\n",
       "datetime              0\n",
       "date                  0\n",
       "hour                  0\n",
       "dtype: int64"
      ]
     },
     "execution_count": 24,
     "metadata": {},
     "output_type": "execute_result"
    }
   ],
   "source": [
    "pcc_df.isna().sum(axis=0)"
   ]
  },
  {
   "cell_type": "code",
   "execution_count": 22,
   "id": "4dbb91d5",
   "metadata": {},
   "outputs": [
    {
     "data": {
      "image/png": "[encoded data removed]",
      "text/plain": [
       "<Figure size 640x480 with 1 Axes>"
      ]
     },
     "metadata": {},
     "output_type": "display_data"
    }
   ],
   "source": [
    "# Create line graph\n",
    "plt.plot(pcc_df['date'], pcc_df['the_value'])\n",
    "\n",
    "# Customize the graph\n",
    "plt.xlabel('X-axis Label')\n",
    "plt.ylabel('Y-axis Label')\n",
    "plt.title('Line Graph')\n",
    "\n",
    "# Display the graph\n",
    "plt.show()"
   ]
  },
  {
   "cell_type": "code",
   "execution_count": null,
   "id": "27c08bfd",
   "metadata": {},
   "outputs": [],
   "source": []
  }
 ],
 "metadata": {
  "kernelspec": {
   "display_name": "Python 3 (ipykernel)",
   "language": "python",
   "name": "python3"
  },
  "language_info": {
   "codemirror_mode": {
    "name": "ipython",
    "version": 3
   },
   "file_extension": ".py",
   "mimetype": "text/x-python",
   "name": "python",
   "nbconvert_exporter": "python",
   "pygments_lexer": "ipython3",
   "version": "3.10.6"
  },
  "toc": {
   "base_numbering": 1,
   "nav_menu": {},
   "number_sections": true,
   "sideBar": true,
   "skip_h1_title": false,
   "title_cell": "Table of Contents",
   "title_sidebar": "Contents",
   "toc_cell": false,
   "toc_position": {},
   "toc_section_display": true,
   "toc_window_display": false
  }
 },
 "nbformat": 4,
 "nbformat_minor": 5
}
